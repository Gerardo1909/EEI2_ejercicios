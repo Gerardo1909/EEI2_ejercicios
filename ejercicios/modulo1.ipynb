{
 "cells": [
  {
   "cell_type": "markdown",
   "id": "e577aaab",
   "metadata": {},
   "source": [
    "# Ejercicios prácticos - Módulo 1"
   ]
  },
  {
   "cell_type": "code",
   "execution_count": 1,
   "id": "a5f5b8e3",
   "metadata": {},
   "outputs": [],
   "source": [
    "import matplotlib.pyplot as plt\n",
    "import numpy as np\n",
    "import preliz as pz"
   ]
  },
  {
   "cell_type": "markdown",
   "id": "c2bac830",
   "metadata": {},
   "source": [
    "### 1. El estadístico Bruno de Finetti declaró que \"Las probabilidades no existen\". Cómo se vincula este enunciado con el modelo BetaBinomial que hemos visto?"
   ]
  },
  {
   "cell_type": "markdown",
   "id": "de033d2e",
   "metadata": {},
   "source": [
    "### 2. Edwin Jaynes, físico, declaró que la teoría de probabilidad es la lógica de la ciencia. Discutí este enunciado."
   ]
  },
  {
   "cell_type": "markdown",
   "id": "761dff5b",
   "metadata": {},
   "source": [
    "### 3. Usá pz.Beta().plot_interactive() para explorar distintas combinaciones de parámetros de la distribución Beta. ¿Cuál es el efecto de los parámetros $\\alpha$ y $\\beta$?"
   ]
  },
  {
   "cell_type": "markdown",
   "id": "eab62e92",
   "metadata": {},
   "source": [
    "### 4. Interpretá los parámetros de una distribución Beta, $\\alpha$ y $\\beta$ en términos de su PDF (probability density function). Analizá solo el caso de $\\alpha >= 1$ y $\\beta >= 1$"
   ]
  },
  {
   "cell_type": "markdown",
   "id": "8c8750b3",
   "metadata": {},
   "source": [
    "### 5. La media de la distribución Beta es $\\frac{\\alpha}{\\alpha+\\beta}$. Cuál es la media de la distribución a posteriori para un modelo Beta-Binomial, con prior Beta(2, 5) y 10 experimentos con 6 caras?"
   ]
  },
  {
   "cell_type": "markdown",
   "id": "ce7f3a29",
   "metadata": {},
   "source": [
    "### 6. La varianza de la distribución Beta es $\\frac{\\alpha \\beta}{(\\alpha+\\beta)^2(\\alpha+\\beta+1)}$. ¿Cuál es la varianza de la distribución a posteriori para un modelo Beta-Binomial, con prior Beta(2, 5) y 10 experimentos con 6 caras?"
   ]
  },
  {
   "cell_type": "markdown",
   "id": "d63ec3b2",
   "metadata": {},
   "source": [
    "### 7. Contrastá los resultados de los puntos anteriores usando la función `mean` y `var` de la distribución Beta de PreliZ."
   ]
  },
  {
   "cell_type": "markdown",
   "id": "946ba849",
   "metadata": {},
   "source": [
    "### 8. PreliZ tiene una función llamada [maxent](https://preliz.readthedocs.io/en/latest/api_reference.html#preliz.unidimensional.maxent). Explicá que hace."
   ]
  },
  {
   "cell_type": "markdown",
   "id": "26d53f37",
   "metadata": {},
   "source": [
    "### 9. Conocimiento experto indica que un parámetro debe ser positivo y que el 90% puede estar entre 2 y 20. Usá maxent para definir ese prior."
   ]
  },
  {
   "cell_type": "markdown",
   "id": "00cff036",
   "metadata": {},
   "source": [
    "### 10. Conocimiento experto indica que un parámetro debe ser positivo con media 6 y 90% puede estar entre 2 y 20. Usá maxent para definir ese prior."
   ]
  },
  {
   "cell_type": "markdown",
   "id": "a6243e10",
   "metadata": {},
   "source": [
    "### 11. Usá la siguiente función para explorar diversas combinaciones de _priors_ y _likelihoods_. Enunciá las conclusiones que consideres más relevantes"
   ]
  },
  {
   "cell_type": "code",
   "execution_count": null,
   "id": "24f83180",
   "metadata": {},
   "outputs": [],
   "source": [
    "def a_posteriori_grilla(grilla=10, a=1, b=1, caras=6, tiradas=9):\n",
    "    grid = np.linspace(0, 1, grilla)\n",
    "    prior = pz.Beta(a, b).pdf(grid)\n",
    "    likelihood = pz.Binomial(n=tiradas, p=grid).pdf(caras)\n",
    "    posterior = likelihood * prior\n",
    "    posterior /= posterior.sum()\n",
    "    _, ax = plt.subplots(1, 3, sharex=True, figsize=(16, 4))\n",
    "    ax[0].set_title('caras = {}\\ntiradas = {}'.format(caras, tiradas))\n",
    "    for i, (e, e_n) in enumerate(zip([prior, likelihood, posterior], ['a priori', 'likelihood', 'a posteriori'])):\n",
    "        ax[i].set_yticks([])\n",
    "        ax[i].plot(grid, e, 'o-', label=e_n)\n",
    "        ax[i].legend(fontsize=14)\n",
    "\n",
    "\n",
    "interact(a_posteriori_grilla, grilla=ipyw.IntSlider(min=2, max=100, step=1, value=15), a=ipyw.FloatSlider(min=1, max=7, step=1, value=1), b=ipyw.FloatSlider(\n",
    "    min=1, max=7, step=1, value=1), caras=ipyw.IntSlider(min=0, max=20, step=1, value=6), tiradas=ipyw.IntSlider(min=0, max=20, step=1, value=9));"
   ]
  }
 ],
 "metadata": {
  "kernelspec": {
   "display_name": "eei2-ejercicios",
   "language": "python",
   "name": "python3"
  },
  "language_info": {
   "codemirror_mode": {
    "name": "ipython",
    "version": 3
   },
   "file_extension": ".py",
   "mimetype": "text/x-python",
   "name": "python",
   "nbconvert_exporter": "python",
   "pygments_lexer": "ipython3",
   "version": "3.13.5"
  }
 },
 "nbformat": 4,
 "nbformat_minor": 5
}
