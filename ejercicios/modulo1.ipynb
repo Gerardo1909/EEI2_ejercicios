{
 "cells": [
  {
   "cell_type": "markdown",
   "id": "e577aaab",
   "metadata": {},
   "source": [
    "# Ejercicios prácticos - Módulo 1"
   ]
  }
 ],
 "metadata": {
  "kernelspec": {
   "display_name": "eei2-ejercicios",
   "language": "python",
   "name": "python3"
  },
  "language_info": {
   "name": "python",
   "version": "3.13.5"
  }
 },
 "nbformat": 4,
 "nbformat_minor": 5
}
