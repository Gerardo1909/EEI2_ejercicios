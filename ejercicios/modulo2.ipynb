{
 "cells": [
  {
   "cell_type": "markdown",
   "id": "9e79b8d5",
   "metadata": {},
   "source": [
    "# Ejercicios prácticos - Módulo 2"
   ]
  },
  {
   "cell_type": "code",
   "execution_count": 1,
   "id": "8b3858b9",
   "metadata": {},
   "outputs": [
    {
     "name": "stderr",
     "output_type": "stream",
     "text": [
      "WARNING (pytensor.configdefaults): g++ not available, if using conda: `conda install gxx`\n",
      "WARNING (pytensor.configdefaults): g++ not detected!  PyTensor will be unable to compile C-implementations and will default to Python. Performance may be severely degraded. To remove this warning, set PyTensor flags cxx to an empty string.\n"
     ]
    }
   ],
   "source": [
    "import arviz as az\n",
    "import pymc as pm\n",
    "import preliz as pz\n",
    "import numpy as np\n",
    "import scipy.stats as stats\n",
    "import pandas as pd\n",
    "import matplotlib.pyplot as plt"
   ]
  },
  {
   "cell_type": "markdown",
   "id": "1ccd38fb",
   "metadata": {},
   "source": [
    "### 1. Usando PyMC reproducí los resultados del primer capítulo para el problema de la moneda. Usá los 3 priors usados en ese capítulo Beta(1, 1), Beta(0.5, 0.5), Beta(20, 20). Probá con 4 experimentos y con 150. Presenta los resultados usando 2 visualizaciones."
   ]
  },
  {
   "cell_type": "markdown",
   "id": "d313c195",
   "metadata": {},
   "source": [
    "### 2. En `nuestro_primer_modelo` reemplazá la distribución $\\theta \\sim Beta(1, 1)$ por una uniforme en el intervalo [0, 1] Cual es el efecto en el muestreo y en la distribución a posteriori? ¿Y si usas un intervalo más ámplio, como [-2, 1]?"
   ]
  },
  {
   "cell_type": "markdown",
   "id": "b5e631ca",
   "metadata": {},
   "source": [
    "### 3. Los modelos de PyMC tienen un método `.to_graphviz()` que se puede utilizar para visualizar el modelo (también existe la función `pm.model_to_graphviz()`. Use este método para visualizar `nuestro_primer_modelo`. Compare el resultado con el diagrama de Kruschke."
   ]
  },
  {
   "cell_type": "markdown",
   "id": "c4afa1ff",
   "metadata": {},
   "source": [
    "### 4. En el modelo `comparación_grupos` que dimensión y tamaño tiene μ[idx] y σ[idx]? Justifique"
   ]
  },
  {
   "cell_type": "markdown",
   "id": "10dc2759",
   "metadata": {},
   "source": [
    "### 5. La Gaussiana es una distribución sin límites es decir es válida en el intervalo $(-\\infty, \\infty)$, en el modelo `comparación_grupos` usamos una Gama como likelihood, pero podríamos haber usado una Gaussiana? Cambiarías tu respuesta si las propinas tomaran valores alrededor de 100 dolares?"
   ]
  },
  {
   "cell_type": "markdown",
   "id": "5ee873d6",
   "metadata": {},
   "source": [
    "### 6. Calculá la probabilidad de superioridad directamente a partir de las muestras de la distribución *a posteriori*, es decir sin la expresión analítica. Cómo se comparan los resultados con los valores obtenidos analíticamente. "
   ]
  },
  {
   "cell_type": "markdown",
   "id": "ee587d90",
   "metadata": {},
   "source": [
    "### 7. Aplicá al menos uno de los modelos vistos en este capítulo a datos propios o de tu interés."
   ]
  }
 ],
 "metadata": {
  "kernelspec": {
   "display_name": "eei2-ejercicios",
   "language": "python",
   "name": "python3"
  },
  "language_info": {
   "codemirror_mode": {
    "name": "ipython",
    "version": 3
   },
   "file_extension": ".py",
   "mimetype": "text/x-python",
   "name": "python",
   "nbconvert_exporter": "python",
   "pygments_lexer": "ipython3",
   "version": "3.13.5"
  }
 },
 "nbformat": 4,
 "nbformat_minor": 5
}
